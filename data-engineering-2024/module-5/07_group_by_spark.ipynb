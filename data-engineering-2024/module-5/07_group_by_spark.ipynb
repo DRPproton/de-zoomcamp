{
 "cells": [
  {
   "cell_type": "code",
   "execution_count": 1,
   "metadata": {},
   "outputs": [],
   "source": [
    "import pyspark\n",
    "from pyspark.sql import SparkSession"
   ]
  },
  {
   "cell_type": "code",
   "execution_count": 2,
   "metadata": {},
   "outputs": [
    {
     "name": "stderr",
     "output_type": "stream",
     "text": [
      "your 131072x1 screen size is bogus. expect trouble\n",
      "24/03/05 17:15:25 WARN Utils: Your hostname, dashel resolves to a loopback address: 127.0.1.1; using 172.31.179.36 instead (on interface eth0)\n",
      "24/03/05 17:15:25 WARN Utils: Set SPARK_LOCAL_IP if you need to bind to another address\n",
      "Setting default log level to \"WARN\".\n",
      "To adjust logging level use sc.setLogLevel(newLevel). For SparkR, use setLogLevel(newLevel).\n",
      "24/03/05 17:15:27 WARN NativeCodeLoader: Unable to load native-hadoop library for your platform... using builtin-java classes where applicable\n"
     ]
    }
   ],
   "source": [
    "spark = SparkSession.builder.master('local[*]').appName('test').getOrCreate()"
   ]
  },
  {
   "cell_type": "code",
   "execution_count": 3,
   "metadata": {},
   "outputs": [],
   "source": [
    "df_green = spark.read.parquet('data/green-taxi-data/parquet/*')"
   ]
  },
  {
   "cell_type": "code",
   "execution_count": 4,
   "metadata": {},
   "outputs": [
    {
     "name": "stdout",
     "output_type": "stream",
     "text": [
      "+--------+-------------------+-------------------+------------------+----------+------------+------------+---------------+-------------+-----------+-----+-------+----------+------------+---------+---------------------+------------+------------+---------+--------------------+\n",
      "|VendorID|    pickup_datetime|   dropoff_datetime|store_and_fwd_flag|RatecodeID|PULocationID|DOLocationID|passenger_count|trip_distance|fare_amount|extra|mta_tax|tip_amount|tolls_amount|ehail_fee|improvement_surcharge|total_amount|payment_type|trip_type|congestion_surcharge|\n",
      "+--------+-------------------+-------------------+------------------+----------+------------+------------+---------------+-------------+-----------+-----+-------+----------+------------+---------+---------------------+------------+------------+---------+--------------------+\n",
      "|       2|2020-01-23 17:50:43|2020-01-23 18:10:24|                 N|         1|          82|         258|              1|         3.85|       16.0|  1.0|    0.5|       0.0|         0.0|     NULL|                  0.3|        17.8|           2|        1|                 0.0|\n",
      "|       2|2020-01-29 12:21:06|2020-01-29 12:25:14|                 N|         1|          95|          95|              1|         0.61|        5.0|  0.0|    0.5|       0.0|         0.0|     NULL|                  0.3|         5.8|           2|        1|                 0.0|\n",
      "|       2|2020-01-07 08:08:24|2020-01-07 08:19:15|                 N|         1|          18|         241|              1|         2.15|       10.0|  0.0|    0.5|       0.0|         0.0|     NULL|                  0.3|        10.8|           2|        1|                 0.0|\n",
      "|       2|2020-01-11 12:47:33|2020-01-11 13:13:01|                 N|         5|         166|         265|              1|        14.69|       30.0|  0.0|    0.0|       4.0|         0.0|     NULL|                  0.3|        34.3|           1|        2|                 0.0|\n",
      "|       2|2020-01-28 18:54:45|2020-01-28 19:00:47|                 N|         1|         179|         179|              5|         0.84|        5.5|  1.0|    0.5|      1.46|         0.0|     NULL|                  0.3|        8.76|           1|        1|                 0.0|\n",
      "|       2|2020-01-03 13:22:44|2020-01-03 13:31:03|                 N|         1|          41|          75|              2|         1.15|        7.5|  0.0|    0.5|       0.0|         0.0|     NULL|                  0.3|         8.3|           2|        1|                 0.0|\n",
      "|       2|2020-01-08 14:12:51|2020-01-08 14:32:49|                 N|         1|          95|         198|              1|         4.51|       17.0|  0.0|    0.5|       0.0|         0.0|     NULL|                  0.3|        17.8|           2|        1|                 0.0|\n",
      "|    NULL|2020-01-22 08:07:00|2020-01-22 08:36:00|              NULL|      NULL|          10|         171|           NULL|         9.57|      30.54| 2.75|    0.5|       0.0|         0.0|     NULL|                  0.3|       34.09|        NULL|     NULL|                NULL|\n",
      "|    NULL|2020-01-31 13:31:00|2020-01-31 13:44:00|              NULL|      NULL|         164|         107|           NULL|         1.57|      16.62| 2.75|    0.0|       0.0|         0.0|     NULL|                  0.3|       19.67|        NULL|     NULL|                NULL|\n",
      "|       1|2020-01-31 19:39:55|2020-01-31 19:49:06|                 N|         1|         210|         123|              1|          1.6|        7.5|  0.0|    0.5|       1.7|         0.0|     NULL|                  0.3|        10.0|           1|        1|                 0.0|\n",
      "|       1|2020-01-21 21:33:51|2020-01-21 21:42:01|                 N|         5|         244|         116|              1|          1.0|        7.0|  0.0|    0.0|       0.0|         0.0|     NULL|                  0.0|         7.0|           4|        2|                 0.0|\n",
      "|       2|2020-01-09 18:48:39|2020-01-09 18:55:31|                 N|         1|          66|          33|              2|         1.21|        6.5|  1.0|    0.5|       0.0|         0.0|     NULL|                  0.3|         8.3|           1|        1|                 0.0|\n",
      "|       2|2020-01-02 20:21:17|2020-01-02 20:26:21|                 N|         1|           7|         179|              1|         0.54|        5.0|  0.5|    0.5|       0.0|         0.0|     NULL|                  0.3|         6.3|           2|        1|                 0.0|\n",
      "|       1|2020-01-10 02:52:54|2020-01-10 03:03:06|                 N|         1|           7|          82|              1|          2.3|       10.0|  0.5|    0.5|       0.0|         0.0|     NULL|                  0.3|        11.3|           2|        1|                 0.0|\n",
      "|    NULL|2020-01-27 13:56:00|2020-01-27 14:12:00|              NULL|      NULL|         174|          51|           NULL|         2.87|      21.95| 2.75|    0.5|       0.0|         0.0|     NULL|                  0.3|        25.5|        NULL|     NULL|                NULL|\n",
      "|       2|2020-01-29 23:01:37|2020-01-29 23:09:59|                 N|         1|         130|         135|              1|         1.77|        8.0|  0.5|    0.5|       1.4|         0.0|     NULL|                  0.3|        10.7|           1|        1|                 0.0|\n",
      "|       2|2020-01-23 17:36:56|2020-01-23 17:48:55|                 N|         1|          97|         106|              1|         1.38|        9.0|  1.0|    0.5|       0.0|         0.0|     NULL|                  0.3|        10.8|           2|        1|                 0.0|\n",
      "|       1|2020-01-31 01:26:07|2020-01-31 01:32:27|                 N|         1|         129|          82|              1|          1.1|        6.5|  0.5|    0.5|       0.0|         0.0|     NULL|                  0.3|         7.8|           2|        1|                 0.0|\n",
      "|    NULL|2020-01-17 16:54:00|2020-01-17 17:41:00|              NULL|      NULL|          92|         225|           NULL|         11.9|       45.2| 2.75|    0.0|       0.0|         0.0|     NULL|                  0.3|       48.25|        NULL|     NULL|                NULL|\n",
      "|    NULL|2020-01-01 18:02:00|2020-01-01 18:39:00|              NULL|      NULL|          38|           7|           NULL|        14.82|      35.97|  0.0|    0.0|       0.0|         0.0|     NULL|                  0.3|       36.27|        NULL|     NULL|                NULL|\n",
      "+--------+-------------------+-------------------+------------------+----------+------------+------------+---------------+-------------+-----------+-----+-------+----------+------------+---------+---------------------+------------+------------+---------+--------------------+\n",
      "only showing top 20 rows\n",
      "\n"
     ]
    }
   ],
   "source": [
    "df_green.show()"
   ]
  },
  {
   "cell_type": "code",
   "execution_count": 5,
   "metadata": {},
   "outputs": [
    {
     "name": "stderr",
     "output_type": "stream",
     "text": [
      "/home/dashelruiz/anaconda3/envs/de_env/lib/python3.12/site-packages/pyspark/sql/dataframe.py:329: FutureWarning: Deprecated in 2.0, use createOrReplaceTempView instead.\n",
      "  warnings.warn(\"Deprecated in 2.0, use createOrReplaceTempView instead.\", FutureWarning)\n"
     ]
    }
   ],
   "source": [
    "df_green.registerTempTable('green')"
   ]
  },
  {
   "cell_type": "code",
   "execution_count": 6,
   "metadata": {},
   "outputs": [],
   "source": [
    "df_green_revenue = spark.sql(\"\"\"\n",
    "SELECT \n",
    "    date_trunc('hour', pickup_datetime) AS hour,\n",
    "    PULocationID AS zone,    \n",
    "    SUM(total_amount) AS amount,\n",
    "    COUNT(1) AS number_records\n",
    "FROM\n",
    "    green\n",
    "GROUP BY\n",
    "    1, 2\n",
    "ORDER BY \n",
    "    1, 2\n",
    "\"\"\"\n",
    ")"
   ]
  },
  {
   "cell_type": "code",
   "execution_count": 7,
   "metadata": {},
   "outputs": [
    {
     "name": "stderr",
     "output_type": "stream",
     "text": [
      "[Stage 3:==========================================>              (12 + 4) / 16]\r"
     ]
    },
    {
     "name": "stdout",
     "output_type": "stream",
     "text": [
      "+-------------------+----+------------------+--------------+\n",
      "|               hour|zone|            amount|number_records|\n",
      "+-------------------+----+------------------+--------------+\n",
      "|2008-12-31 22:00:00| 193|               0.0|             1|\n",
      "|2008-12-31 23:00:00| 166|              11.3|             1|\n",
      "|2008-12-31 23:00:00| 193|               0.0|             2|\n",
      "|2008-12-31 23:00:00| 264|               0.0|             1|\n",
      "|2009-01-01 00:00:00|   7|               9.8|             1|\n",
      "|2009-01-01 00:00:00|  41|15.850000000000001|             2|\n",
      "|2009-01-01 00:00:00|  42|               8.3|             1|\n",
      "|2009-01-01 00:00:00|  74|               9.8|             1|\n",
      "|2009-01-01 00:00:00|  75| 98.39999999999999|             2|\n",
      "|2009-01-01 00:00:00| 116|               7.3|             1|\n",
      "|2009-01-01 00:00:00| 130|              11.8|             1|\n",
      "|2009-01-01 00:00:00| 193|             12.35|             8|\n",
      "|2009-01-01 00:00:00| 264|               0.0|             1|\n",
      "|2009-01-01 01:00:00|  41|               0.0|             2|\n",
      "|2009-01-01 01:00:00|  49|              11.8|             1|\n",
      "|2009-01-01 01:00:00|  75|               6.3|             1|\n",
      "|2009-01-01 01:00:00| 130|              24.8|             1|\n",
      "|2009-01-01 01:00:00| 152|              15.3|             1|\n",
      "|2009-01-01 01:00:00| 193|               0.0|             2|\n",
      "|2009-01-01 01:00:00| 244|               8.8|             1|\n",
      "+-------------------+----+------------------+--------------+\n",
      "only showing top 20 rows\n",
      "\n"
     ]
    },
    {
     "name": "stderr",
     "output_type": "stream",
     "text": [
      "                                                                                \r"
     ]
    }
   ],
   "source": [
    "df_green_revenue.show()"
   ]
  },
  {
   "cell_type": "code",
   "execution_count": 16,
   "metadata": {},
   "outputs": [
    {
     "name": "stderr",
     "output_type": "stream",
     "text": [
      "24/03/05 17:36:25 WARN MemoryManager: Total allocation exceeds 95.00% (1,020,054,720 bytes) of heap memory\n",
      "Scaling row group sizes to 95.00% for 8 writers\n",
      "24/03/05 17:36:25 WARN MemoryManager: Total allocation exceeds 95.00% (1,020,054,720 bytes) of heap memory\n",
      "Scaling row group sizes to 84.44% for 9 writers\n",
      "24/03/05 17:36:25 WARN MemoryManager: Total allocation exceeds 95.00% (1,020,054,720 bytes) of heap memory\n",
      "Scaling row group sizes to 76.00% for 10 writers\n",
      "24/03/05 17:36:25 WARN MemoryManager: Total allocation exceeds 95.00% (1,020,054,720 bytes) of heap memory\n",
      "Scaling row group sizes to 69.09% for 11 writers\n",
      "24/03/05 17:36:25 WARN MemoryManager: Total allocation exceeds 95.00% (1,020,054,720 bytes) of heap memory\n",
      "Scaling row group sizes to 63.33% for 12 writers\n",
      "24/03/05 17:36:25 WARN MemoryManager: Total allocation exceeds 95.00% (1,020,054,720 bytes) of heap memory\n",
      "Scaling row group sizes to 58.46% for 13 writers\n",
      "24/03/05 17:36:25 WARN MemoryManager: Total allocation exceeds 95.00% (1,020,054,720 bytes) of heap memory\n",
      "Scaling row group sizes to 54.29% for 14 writers\n",
      "24/03/05 17:36:25 WARN MemoryManager: Total allocation exceeds 95.00% (1,020,054,720 bytes) of heap memory\n",
      "Scaling row group sizes to 50.67% for 15 writers\n",
      "24/03/05 17:36:25 WARN MemoryManager: Total allocation exceeds 95.00% (1,020,054,720 bytes) of heap memory\n",
      "Scaling row group sizes to 47.50% for 16 writers\n",
      "24/03/05 17:36:25 WARN MemoryManager: Total allocation exceeds 95.00% (1,020,054,720 bytes) of heap memory\n",
      "Scaling row group sizes to 44.71% for 17 writers\n",
      "24/03/05 17:36:25 WARN MemoryManager: Total allocation exceeds 95.00% (1,020,054,720 bytes) of heap memory\n",
      "Scaling row group sizes to 42.22% for 18 writers\n",
      "24/03/05 17:36:25 WARN MemoryManager: Total allocation exceeds 95.00% (1,020,054,720 bytes) of heap memory\n",
      "Scaling row group sizes to 40.00% for 19 writers\n",
      "24/03/05 17:36:25 WARN MemoryManager: Total allocation exceeds 95.00% (1,020,054,720 bytes) of heap memory\n",
      "Scaling row group sizes to 38.00% for 20 writers\n",
      "24/03/05 17:36:25 WARN MemoryManager: Total allocation exceeds 95.00% (1,020,054,720 bytes) of heap memory\n",
      "Scaling row group sizes to 40.00% for 19 writers\n",
      "24/03/05 17:36:25 WARN MemoryManager: Total allocation exceeds 95.00% (1,020,054,720 bytes) of heap memory\n",
      "Scaling row group sizes to 42.22% for 18 writers\n",
      "24/03/05 17:36:25 WARN MemoryManager: Total allocation exceeds 95.00% (1,020,054,720 bytes) of heap memory\n",
      "Scaling row group sizes to 44.71% for 17 writers\n",
      "24/03/05 17:36:25 WARN MemoryManager: Total allocation exceeds 95.00% (1,020,054,720 bytes) of heap memory\n",
      "Scaling row group sizes to 47.50% for 16 writers\n",
      "24/03/05 17:36:25 WARN MemoryManager: Total allocation exceeds 95.00% (1,020,054,720 bytes) of heap memory\n",
      "Scaling row group sizes to 50.67% for 15 writers\n",
      "24/03/05 17:36:25 WARN MemoryManager: Total allocation exceeds 95.00% (1,020,054,720 bytes) of heap memory\n",
      "Scaling row group sizes to 54.29% for 14 writers\n",
      "24/03/05 17:36:25 WARN MemoryManager: Total allocation exceeds 95.00% (1,020,054,720 bytes) of heap memory\n",
      "Scaling row group sizes to 58.46% for 13 writers\n",
      "24/03/05 17:36:25 WARN MemoryManager: Total allocation exceeds 95.00% (1,020,054,720 bytes) of heap memory\n",
      "Scaling row group sizes to 63.33% for 12 writers\n",
      "24/03/05 17:36:25 WARN MemoryManager: Total allocation exceeds 95.00% (1,020,054,720 bytes) of heap memory\n",
      "Scaling row group sizes to 69.09% for 11 writers\n",
      "24/03/05 17:36:25 WARN MemoryManager: Total allocation exceeds 95.00% (1,020,054,720 bytes) of heap memory\n",
      "Scaling row group sizes to 76.00% for 10 writers\n",
      "24/03/05 17:36:25 WARN MemoryManager: Total allocation exceeds 95.00% (1,020,054,720 bytes) of heap memory\n",
      "Scaling row group sizes to 84.44% for 9 writers\n",
      "24/03/05 17:36:25 WARN MemoryManager: Total allocation exceeds 95.00% (1,020,054,720 bytes) of heap memory\n",
      "Scaling row group sizes to 95.00% for 8 writers\n",
      "                                                                                \r"
     ]
    }
   ],
   "source": [
    "df_green_revenue.repartition(20).write.parquet('data/report/revenue/green', mode='overwrite')"
   ]
  },
  {
   "cell_type": "code",
   "execution_count": 8,
   "metadata": {},
   "outputs": [],
   "source": [
    "df_yellow = spark.read.parquet('data/yellow-taxi-data/parquet/*')"
   ]
  },
  {
   "cell_type": "code",
   "execution_count": 9,
   "metadata": {},
   "outputs": [],
   "source": [
    "df_yellow.registerTempTable('yellow')"
   ]
  },
  {
   "cell_type": "code",
   "execution_count": 10,
   "metadata": {},
   "outputs": [],
   "source": [
    "df_yellow_revenue = spark.sql(\"\"\"\n",
    "SELECT \n",
    "    date_trunc('hour', pickup_datetime) AS hour,\n",
    "    PULocationID AS zone,    \n",
    "    SUM(total_amount) AS amount,\n",
    "    COUNT(1) AS number_records\n",
    "FROM\n",
    "    yellow\n",
    "GROUP BY\n",
    "    1, 2\n",
    "ORDER BY \n",
    "    1, 2\n",
    "\"\"\"\n",
    ")"
   ]
  },
  {
   "cell_type": "code",
   "execution_count": 11,
   "metadata": {},
   "outputs": [
    {
     "name": "stderr",
     "output_type": "stream",
     "text": [
      "24/03/05 17:16:06 WARN RowBasedKeyValueBatch: Calling spill() on RowBasedKeyValueBatch. Will not spill but return 0.\n",
      "24/03/05 17:16:06 WARN RowBasedKeyValueBatch: Calling spill() on RowBasedKeyValueBatch. Will not spill but return 0.\n",
      "24/03/05 17:16:06 WARN RowBasedKeyValueBatch: Calling spill() on RowBasedKeyValueBatch. Will not spill but return 0.\n",
      "24/03/05 17:16:06 WARN RowBasedKeyValueBatch: Calling spill() on RowBasedKeyValueBatch. Will not spill but return 0.\n",
      "[Stage 7:================================================>        (17 + 3) / 20]\r"
     ]
    },
    {
     "name": "stdout",
     "output_type": "stream",
     "text": [
      "+-------------------+----+------+--------------+\n",
      "|               hour|zone|amount|number_records|\n",
      "+-------------------+----+------+--------------+\n",
      "|2002-12-31 23:00:00| 193|   0.0|             1|\n",
      "|2002-12-31 23:00:00| 264|   0.0|             1|\n",
      "|2003-01-01 00:00:00| 193|   0.0|             1|\n",
      "|2003-01-05 07:00:00| 264|   0.0|             1|\n",
      "|2003-03-26 21:00:00| 193|  3.31|             1|\n",
      "|2004-04-04 04:00:00| 162|  12.3|             1|\n",
      "|2008-12-31 22:00:00| 113|  10.8|             1|\n",
      "|2008-12-31 22:00:00| 164|  27.3|             1|\n",
      "|2008-12-31 22:00:00| 238|  26.3|             1|\n",
      "|2008-12-31 23:00:00|  25|  16.8|             1|\n",
      "|2008-12-31 23:00:00|  43|  53.5|             2|\n",
      "|2008-12-31 23:00:00|  75|  11.3|             1|\n",
      "|2008-12-31 23:00:00|  79|  23.8|             1|\n",
      "|2008-12-31 23:00:00|  85|   5.3|             1|\n",
      "|2008-12-31 23:00:00|  90|   9.8|             1|\n",
      "|2008-12-31 23:00:00| 132|302.12|             7|\n",
      "|2008-12-31 23:00:00| 141|  23.6|             2|\n",
      "|2008-12-31 23:00:00| 142| 24.46|             2|\n",
      "|2008-12-31 23:00:00| 143| 55.36|             3|\n",
      "|2008-12-31 23:00:00| 144|  75.6|             2|\n",
      "+-------------------+----+------+--------------+\n",
      "only showing top 20 rows\n",
      "\n"
     ]
    },
    {
     "name": "stderr",
     "output_type": "stream",
     "text": [
      "                                                                                \r"
     ]
    }
   ],
   "source": [
    "df_yellow_revenue.show()"
   ]
  },
  {
   "cell_type": "code",
   "execution_count": 17,
   "metadata": {},
   "outputs": [
    {
     "name": "stderr",
     "output_type": "stream",
     "text": [
      "24/03/05 17:36:42 WARN RowBasedKeyValueBatch: Calling spill() on RowBasedKeyValueBatch. Will not spill but return 0.\n",
      "24/03/05 17:36:42 WARN RowBasedKeyValueBatch: Calling spill() on RowBasedKeyValueBatch. Will not spill but return 0.\n",
      "24/03/05 17:36:42 WARN RowBasedKeyValueBatch: Calling spill() on RowBasedKeyValueBatch. Will not spill but return 0.\n",
      "24/03/05 17:36:42 WARN RowBasedKeyValueBatch: Calling spill() on RowBasedKeyValueBatch. Will not spill but return 0.\n",
      "24/03/05 17:36:45 WARN MemoryManager: Total allocation exceeds 95.00% (1,020,054,720 bytes) of heap memory\n",
      "Scaling row group sizes to 95.00% for 8 writers\n",
      "24/03/05 17:36:45 WARN MemoryManager: Total allocation exceeds 95.00% (1,020,054,720 bytes) of heap memory\n",
      "Scaling row group sizes to 84.44% for 9 writers\n",
      "24/03/05 17:36:45 WARN MemoryManager: Total allocation exceeds 95.00% (1,020,054,720 bytes) of heap memory\n",
      "Scaling row group sizes to 76.00% for 10 writers\n",
      "24/03/05 17:36:45 WARN MemoryManager: Total allocation exceeds 95.00% (1,020,054,720 bytes) of heap memory\n",
      "Scaling row group sizes to 69.09% for 11 writers\n",
      "24/03/05 17:36:45 WARN MemoryManager: Total allocation exceeds 95.00% (1,020,054,720 bytes) of heap memory\n",
      "Scaling row group sizes to 63.33% for 12 writers\n",
      "24/03/05 17:36:45 WARN MemoryManager: Total allocation exceeds 95.00% (1,020,054,720 bytes) of heap memory\n",
      "Scaling row group sizes to 58.46% for 13 writers\n",
      "24/03/05 17:36:45 WARN MemoryManager: Total allocation exceeds 95.00% (1,020,054,720 bytes) of heap memory\n",
      "Scaling row group sizes to 54.29% for 14 writers\n",
      "24/03/05 17:36:45 WARN MemoryManager: Total allocation exceeds 95.00% (1,020,054,720 bytes) of heap memory\n",
      "Scaling row group sizes to 50.67% for 15 writers\n",
      "24/03/05 17:36:45 WARN MemoryManager: Total allocation exceeds 95.00% (1,020,054,720 bytes) of heap memory\n",
      "Scaling row group sizes to 47.50% for 16 writers\n",
      "24/03/05 17:36:45 WARN MemoryManager: Total allocation exceeds 95.00% (1,020,054,720 bytes) of heap memory\n",
      "Scaling row group sizes to 44.71% for 17 writers\n",
      "24/03/05 17:36:45 WARN MemoryManager: Total allocation exceeds 95.00% (1,020,054,720 bytes) of heap memory\n",
      "Scaling row group sizes to 42.22% for 18 writers\n",
      "24/03/05 17:36:45 WARN MemoryManager: Total allocation exceeds 95.00% (1,020,054,720 bytes) of heap memory\n",
      "Scaling row group sizes to 40.00% for 19 writers\n",
      "24/03/05 17:36:45 WARN MemoryManager: Total allocation exceeds 95.00% (1,020,054,720 bytes) of heap memory\n",
      "Scaling row group sizes to 38.00% for 20 writers\n",
      "24/03/05 17:36:45 WARN MemoryManager: Total allocation exceeds 95.00% (1,020,054,720 bytes) of heap memory\n",
      "Scaling row group sizes to 40.00% for 19 writers\n",
      "24/03/05 17:36:45 WARN MemoryManager: Total allocation exceeds 95.00% (1,020,054,720 bytes) of heap memory\n",
      "Scaling row group sizes to 42.22% for 18 writers\n",
      "24/03/05 17:36:45 WARN MemoryManager: Total allocation exceeds 95.00% (1,020,054,720 bytes) of heap memory\n",
      "Scaling row group sizes to 44.71% for 17 writers\n",
      "24/03/05 17:36:45 WARN MemoryManager: Total allocation exceeds 95.00% (1,020,054,720 bytes) of heap memory\n",
      "Scaling row group sizes to 47.50% for 16 writers\n",
      "24/03/05 17:36:45 WARN MemoryManager: Total allocation exceeds 95.00% (1,020,054,720 bytes) of heap memory\n",
      "Scaling row group sizes to 50.67% for 15 writers\n",
      "24/03/05 17:36:45 WARN MemoryManager: Total allocation exceeds 95.00% (1,020,054,720 bytes) of heap memory\n",
      "Scaling row group sizes to 54.29% for 14 writers\n",
      "24/03/05 17:36:45 WARN MemoryManager: Total allocation exceeds 95.00% (1,020,054,720 bytes) of heap memory\n",
      "Scaling row group sizes to 58.46% for 13 writers\n",
      "24/03/05 17:36:45 WARN MemoryManager: Total allocation exceeds 95.00% (1,020,054,720 bytes) of heap memory\n",
      "Scaling row group sizes to 63.33% for 12 writers\n",
      "24/03/05 17:36:45 WARN MemoryManager: Total allocation exceeds 95.00% (1,020,054,720 bytes) of heap memory\n",
      "Scaling row group sizes to 69.09% for 11 writers\n",
      "24/03/05 17:36:45 WARN MemoryManager: Total allocation exceeds 95.00% (1,020,054,720 bytes) of heap memory\n",
      "Scaling row group sizes to 76.00% for 10 writers\n",
      "24/03/05 17:36:45 WARN MemoryManager: Total allocation exceeds 95.00% (1,020,054,720 bytes) of heap memory\n",
      "Scaling row group sizes to 84.44% for 9 writers\n",
      "24/03/05 17:36:45 WARN MemoryManager: Total allocation exceeds 95.00% (1,020,054,720 bytes) of heap memory\n",
      "Scaling row group sizes to 95.00% for 8 writers\n",
      "                                                                                \r"
     ]
    }
   ],
   "source": [
    "df_yellow_revenue.repartition(20).write.parquet('data/report/revenue/yellow', mode='overwrite')"
   ]
  },
  {
   "cell_type": "code",
   "execution_count": 12,
   "metadata": {},
   "outputs": [],
   "source": [
    "df_green_revenue_tem = df_green_revenue \\\n",
    "        .withColumnRenamed('amount', 'green_amount') \\\n",
    "        .withColumnRenamed('number_records', 'green_number_records')\n",
    "\n",
    "df_yellow_revenue_tem = df_yellow_revenue \\\n",
    "        .withColumnRenamed('amount', 'yellow_amount') \\\n",
    "        .withColumnRenamed('number_records', 'yellow_number_records')"
   ]
  },
  {
   "cell_type": "code",
   "execution_count": 13,
   "metadata": {},
   "outputs": [],
   "source": [
    "df_join = df_green_revenue_tem.join(df_yellow_revenue_tem, on=['hour', 'zone'], how='outer')"
   ]
  },
  {
   "cell_type": "code",
   "execution_count": null,
   "metadata": {},
   "outputs": [],
   "source": [
    "df_join.write.parquet('data/report/revenue/total', mode='overwrite')"
   ]
  },
  {
   "cell_type": "code",
   "execution_count": 15,
   "metadata": {},
   "outputs": [
    {
     "name": "stderr",
     "output_type": "stream",
     "text": [
      "24/03/05 17:32:47 WARN RowBasedKeyValueBatch: Calling spill() on RowBasedKeyValueBatch. Will not spill but return 0.\n",
      "24/03/05 17:32:47 WARN RowBasedKeyValueBatch: Calling spill() on RowBasedKeyValueBatch. Will not spill but return 0.\n",
      "24/03/05 17:32:47 WARN RowBasedKeyValueBatch: Calling spill() on RowBasedKeyValueBatch. Will not spill but return 0.\n",
      "24/03/05 17:32:47 WARN RowBasedKeyValueBatch: Calling spill() on RowBasedKeyValueBatch. Will not spill but return 0.\n",
      "24/03/05 17:32:50 WARN RowBasedKeyValueBatch: Calling spill() on RowBasedKeyValueBatch. Will not spill but return 0.\n",
      "24/03/05 17:32:50 WARN RowBasedKeyValueBatch: Calling spill() on RowBasedKeyValueBatch. Will not spill but return 0.\n",
      "24/03/05 17:32:50 WARN RowBasedKeyValueBatch: Calling spill() on RowBasedKeyValueBatch. Will not spill but return 0.\n",
      "24/03/05 17:32:50 WARN RowBasedKeyValueBatch: Calling spill() on RowBasedKeyValueBatch. Will not spill but return 0.\n",
      "[Stage 16:============================================>           (16 + 4) / 20]\r"
     ]
    },
    {
     "name": "stdout",
     "output_type": "stream",
     "text": [
      "+-------------------+----+------------------+--------------------+------------------+---------------------+\n",
      "|               hour|zone|      green_amount|green_number_records|     yellow_amount|yellow_number_records|\n",
      "+-------------------+----+------------------+--------------------+------------------+---------------------+\n",
      "|2003-01-05 07:00:00| 264|              NULL|                NULL|               0.0|                    1|\n",
      "|2008-12-31 23:00:00| 162|              NULL|                NULL|              26.6|                    2|\n",
      "|2008-12-31 23:00:00| 237|              NULL|                NULL|              35.2|                    4|\n",
      "|2009-01-01 00:00:00|  24|              NULL|                NULL|              11.0|                    1|\n",
      "|2009-01-01 00:00:00|  41|15.850000000000001|                   2|              11.8|                    1|\n",
      "|2009-01-01 00:00:00|  79|              NULL|                NULL|35.760000000000005|                    3|\n",
      "|2009-01-01 00:00:00| 229|              NULL|                NULL|               0.0|                    2|\n",
      "|2009-01-01 02:00:00| 114|              NULL|                NULL|              10.3|                    1|\n",
      "|2009-01-01 02:00:00| 161|              NULL|                NULL|              12.3|                    1|\n",
      "|2009-01-01 02:00:00| 164|              NULL|                NULL|              15.8|                    1|\n",
      "|2009-01-01 03:00:00|  10|              NULL|                NULL|             61.85|                    1|\n",
      "|2009-01-01 04:00:00| 142|              NULL|                NULL|             12.36|                    1|\n",
      "|2009-01-01 04:00:00| 237|              NULL|                NULL|              10.8|                    1|\n",
      "|2009-01-01 11:00:00| 140|              NULL|                NULL|               6.8|                    1|\n",
      "|2009-01-01 19:00:00|  79|              NULL|                NULL|               7.8|                    1|\n",
      "|2009-01-01 19:00:00| 186|              NULL|                NULL|              14.3|                    1|\n",
      "|2019-12-31 15:00:00| 164|              NULL|                NULL|              50.8|                    1|\n",
      "|2019-12-31 19:00:00| 107|              NULL|                NULL|              18.8|                    1|\n",
      "|2019-12-31 23:00:00| 233|              NULL|                NULL|              9.36|                    1|\n",
      "|2019-12-31 23:00:00| 248|              11.3|                   1|              NULL|                 NULL|\n",
      "+-------------------+----+------------------+--------------------+------------------+---------------------+\n",
      "only showing top 20 rows\n",
      "\n"
     ]
    },
    {
     "name": "stderr",
     "output_type": "stream",
     "text": [
      "                                                                                \r"
     ]
    }
   ],
   "source": [
    "df_join.show()"
   ]
  },
  {
   "cell_type": "code",
   "execution_count": 19,
   "metadata": {},
   "outputs": [],
   "source": [
    "df_join = spark.read.parquet('data/report/revenue/total')"
   ]
  },
  {
   "cell_type": "code",
   "execution_count": 20,
   "metadata": {},
   "outputs": [],
   "source": [
    "df_zones = spark.read.parquet('zones')"
   ]
  },
  {
   "cell_type": "code",
   "execution_count": 21,
   "metadata": {},
   "outputs": [
    {
     "name": "stdout",
     "output_type": "stream",
     "text": [
      "+----------+-------------+--------------------+------------+\n",
      "|LocationID|      Borough|                Zone|service_zone|\n",
      "+----------+-------------+--------------------+------------+\n",
      "|         1|          EWR|      Newark Airport|         EWR|\n",
      "|         2|       Queens|         Jamaica Bay|   Boro Zone|\n",
      "|         3|        Bronx|Allerton/Pelham G...|   Boro Zone|\n",
      "|         4|    Manhattan|       Alphabet City| Yellow Zone|\n",
      "|         5|Staten Island|       Arden Heights|   Boro Zone|\n",
      "|         6|Staten Island|Arrochar/Fort Wad...|   Boro Zone|\n",
      "|         7|       Queens|             Astoria|   Boro Zone|\n",
      "|         8|       Queens|        Astoria Park|   Boro Zone|\n",
      "|         9|       Queens|          Auburndale|   Boro Zone|\n",
      "|        10|       Queens|        Baisley Park|   Boro Zone|\n",
      "|        11|     Brooklyn|          Bath Beach|   Boro Zone|\n",
      "|        12|    Manhattan|        Battery Park| Yellow Zone|\n",
      "|        13|    Manhattan|   Battery Park City| Yellow Zone|\n",
      "|        14|     Brooklyn|           Bay Ridge|   Boro Zone|\n",
      "|        15|       Queens|Bay Terrace/Fort ...|   Boro Zone|\n",
      "|        16|       Queens|             Bayside|   Boro Zone|\n",
      "|        17|     Brooklyn|             Bedford|   Boro Zone|\n",
      "|        18|        Bronx|        Bedford Park|   Boro Zone|\n",
      "|        19|       Queens|           Bellerose|   Boro Zone|\n",
      "|        20|        Bronx|             Belmont|   Boro Zone|\n",
      "+----------+-------------+--------------------+------------+\n",
      "only showing top 20 rows\n",
      "\n"
     ]
    }
   ],
   "source": [
    "df_zones.show()"
   ]
  },
  {
   "cell_type": "code",
   "execution_count": 22,
   "metadata": {},
   "outputs": [],
   "source": [
    "df_result = df_join.join(df_zones, df_join.zone == df_zones.LocationID)"
   ]
  },
  {
   "cell_type": "code",
   "execution_count": 23,
   "metadata": {},
   "outputs": [
    {
     "name": "stdout",
     "output_type": "stream",
     "text": [
      "+-------------------+----+------------------+--------------------+------------------+---------------------+----------+---------+--------------------+------------+\n",
      "|               hour|zone|      green_amount|green_number_records|     yellow_amount|yellow_number_records|LocationID|  Borough|                Zone|service_zone|\n",
      "+-------------------+----+------------------+--------------------+------------------+---------------------+----------+---------+--------------------+------------+\n",
      "|2008-12-31 23:00:00| 193|               0.0|                   2|               3.3|                    7|       193|   Queens|Queensbridge/Rave...|   Boro Zone|\n",
      "|2008-12-31 23:00:00| 231|              NULL|                NULL|             32.76|                    1|       231|Manhattan|TriBeCa/Civic Center| Yellow Zone|\n",
      "|2008-12-31 23:00:00| 233|              NULL|                NULL|               8.3|                    1|       233|Manhattan| UN/Turtle Bay South| Yellow Zone|\n",
      "|2008-12-31 23:00:00| 239|              NULL|                NULL|              11.3|                    1|       239|Manhattan|Upper West Side S...| Yellow Zone|\n",
      "|2008-12-31 23:00:00| 264|               0.0|                   1|              NULL|                 NULL|       264|  Unknown|                  NV|         N/A|\n",
      "|2009-01-01 00:00:00| 145|              NULL|                NULL|              12.8|                    1|       145|   Queens|Long Island City/...|   Boro Zone|\n",
      "|2009-01-01 00:00:00| 166|              NULL|                NULL|               5.8|                    1|       166|Manhattan| Morningside Heights|   Boro Zone|\n",
      "|2009-01-01 01:00:00| 162|              NULL|                NULL|17.560000000000002|                    2|       162|Manhattan|        Midtown East| Yellow Zone|\n",
      "|2009-01-01 02:00:00| 239|              NULL|                NULL|              16.8|                    1|       239|Manhattan|Upper West Side S...| Yellow Zone|\n",
      "|2009-01-01 18:00:00| 193|              NULL|                NULL|               3.3|                    2|       193|   Queens|Queensbridge/Rave...|   Boro Zone|\n",
      "|2019-12-31 19:00:00| 263|              NULL|                NULL|              23.3|                    1|       263|Manhattan|      Yorkville West| Yellow Zone|\n",
      "|2019-12-31 20:00:00| 249|              NULL|                NULL|             15.36|                    1|       249|Manhattan|        West Village| Yellow Zone|\n",
      "|2019-12-31 23:00:00| 116|              6.81|                   1|              12.8|                    1|       116|Manhattan|    Hamilton Heights|   Boro Zone|\n",
      "|2020-01-01 00:00:00|  51|              17.8|                   2|              31.0|                    1|        51|    Bronx|          Co-Op City|   Boro Zone|\n",
      "|2020-01-01 00:00:00|  85| 64.75999999999999|                   4|            102.56|                    3|        85| Brooklyn|             Erasmus|   Boro Zone|\n",
      "|2020-01-01 00:00:00| 130|133.35000000000002|                   7|              NULL|                 NULL|       130|   Queens|             Jamaica|   Boro Zone|\n",
      "|2020-01-01 00:00:00| 191|             84.21|                   2|              57.3|                    1|       191|   Queens|      Queens Village|   Boro Zone|\n",
      "|2020-01-01 00:00:00| 197|             72.01|                   3|              NULL|                 NULL|       197|   Queens|       Richmond Hill|   Boro Zone|\n",
      "|2020-01-01 00:00:00| 254| 73.82000000000001|                   3|146.04000000000002|                    4|       254|    Bronx|Williamsbridge/Ol...|   Boro Zone|\n",
      "|2020-01-01 01:00:00|  16| 72.96000000000001|                   2|              43.0|                    1|        16|   Queens|             Bayside|   Boro Zone|\n",
      "+-------------------+----+------------------+--------------------+------------------+---------------------+----------+---------+--------------------+------------+\n",
      "only showing top 20 rows\n",
      "\n"
     ]
    }
   ],
   "source": [
    "df_result.show()"
   ]
  },
  {
   "cell_type": "code",
   "execution_count": null,
   "metadata": {},
   "outputs": [],
   "source": [
    "df_result.drop('LocationID', 'zone').write.parquet('tmp/revenue-zones')"
   ]
  },
  {
   "cell_type": "code",
   "execution_count": null,
   "metadata": {},
   "outputs": [],
   "source": []
  }
 ],
 "metadata": {
  "kernelspec": {
   "display_name": "de_env",
   "language": "python",
   "name": "python3"
  },
  "language_info": {
   "codemirror_mode": {
    "name": "ipython",
    "version": 3
   },
   "file_extension": ".py",
   "mimetype": "text/x-python",
   "name": "python",
   "nbconvert_exporter": "python",
   "pygments_lexer": "ipython3",
   "version": "3.12.1"
  }
 },
 "nbformat": 4,
 "nbformat_minor": 2
}
